{
 "cells": [
  {
   "cell_type": "code",
   "execution_count": 239,
   "metadata": {
    "collapsed": true
   },
   "outputs": [],
   "source": [
    "import matplotlib.pyplot as plt\n",
    "import numpy as np\n",
    "import pandas as pd\n",
    "import gc\n",
    "#import scipy as sp\n",
    "import scipy.stats as sp\n",
    "import scipy as sc\n",
    "import math\n",
    "import numpy as np\n",
    "import networkx as nx"
   ]
  },
  {
   "cell_type": "markdown",
   "metadata": {},
   "source": [
    "# NPN"
   ]
  },
  {
   "cell_type": "code",
   "execution_count": 102,
   "metadata": {
    "collapsed": false
   },
   "outputs": [],
   "source": [
    "def huge_npn(x,npn_func = \"shrinkage\",npn_thresh= None,verbose=True):\n",
    "    \"\"\"Implements the Gausianization to help relax the assumption of normality\n",
    "    as in paper 'The Nonparanormal:Semiparametric Estimation\n",
    "    of High Dimensional Undirected Graphs' Liu et.al 2009\"\"\"\n",
    "    n,d = x.shape\n",
    "    x_col = list(x.columns)\n",
    "    x_row = list(x.index)\n",
    "    if npn_func == \"shrinkage\":\n",
    "        if verbose==True:\n",
    "            print(\"Conducting the nonparanormal (npn) transformation via shrunkun ECDF..\")\n",
    "        x= sp.norm.ppf(x.apply(sp.rankdata)/(n+1))\n",
    "        x = pd.DataFrame(x,columns=x_col,index=x_row)\n",
    "        x = x/x.ix[:,0].std()\n",
    "        if verbose==True:\n",
    "            print(\"done.\\\\n\")\n",
    "        del(n,d,verbose)\n",
    "        gc.collect()\n",
    "        x.columns=x_col\n",
    "        x.index = x_row\n",
    "    if (npn_func ==\"truncation\"):\n",
    "        if verbose==True:\n",
    "            print(\"Conducting nonparanormal (npn) transformation via truncated ECDF\")\n",
    "        if npn_thresh == None:\n",
    "            npn_thresh = 1/(4*(n**0.25)* math.sqrt(math.pi*math.log(n)))\n",
    "        x = sp.norm.ppf(np.minimum(np.maximum(x.apply(sp.rankdata)/n,npn_thresh),\n",
    "                        1-npn_thresh))\n",
    "        x = pd.DataFrame(x,columns=x_col,index=x_row)\n",
    "        x = x/x.ix[:,0].std()\n",
    "        if verbose== True:\n",
    "            print(\"done.\\\\n\")\n",
    "        del(n,d,verbose)\n",
    "        gc.collect()\n",
    "        x.columns=x_col\n",
    "        x.index = x_row\n",
    "    if npn_func ==\"skeptic\":\n",
    "        if verbose == True:\n",
    "            print(\"Conducting nonparanormal (npn) transformation via skeptic ..\")\n",
    "        rho, pval = sp.spearmanr(x, axis=0)    \n",
    "        x = np.multiply(2,np.sin(np.multiply(math.pi/6 ,rho)))\n",
    "        x = pd.DataFrame(x,columns=x_col)\n",
    "        if verbose==True:\n",
    "            print(\"done.\\\\n\")\n",
    "        del(n,d,verbose)\n",
    "        gc.collect()\n",
    "        x.columns=x_col\n",
    "    return(x)\n",
    "            "
   ]
  },
  {
   "cell_type": "markdown",
   "metadata": {},
   "source": [
    "# Generate Random Graph "
   ]
  },
  {
   "cell_type": "code",
   "execution_count": 205,
   "metadata": {
    "collapsed": true
   },
   "outputs": [],
   "source": [
    "def wgtMatrix(g,transpose=True):\n",
    "    res =nt.adjacency_matrix(g, nodelist=None)\n",
    "    res =res.todense()\n",
    "    if transpose ==True:\n",
    "        res=np.transpose(res)\n",
    "    else: res\n",
    "    return(res)"
   ]
  },
  {
   "cell_type": "code",
   "execution_count": 221,
   "metadata": {
    "collapsed": true
   },
   "outputs": [],
   "source": [
    "def trueCov(dag):\n",
    "    wm = wgtMatrix(dag)\n",
    "    p = len(dag.nodes())\n",
    "    diag = np.zeros((p, p), int)\n",
    "    np.fill_diagonal(diag, 1)\n",
    "    mat =np.linalg.inv(diag-wm)\n",
    "    cov=np.matmul(mat,np.transpose(mat))\n",
    "    return(cov)"
   ]
  },
  {
   "cell_type": "code",
   "execution_count": 333,
   "metadata": {
    "collapsed": false
   },
   "outputs": [],
   "source": [
    "def erDAG(n,p):\n",
    "    \"\"\"Generate Random Erdos Graph as in\n",
    "    Erdős and A. Rényi, On Random Graphs, Publ. Math. 6, 290 (1959)\"\"\"\n",
    "    mat = np.empty((n,n,))\n",
    "    mat[:] = np.nan\n",
    "    Q = np.triu(mat,1)\n",
    "    Q[np.isnan(Q)] = np.random.binomial(1, p, (n-1)*n/2)\n",
    "    return(Q)"
   ]
  },
  {
   "cell_type": "code",
   "execution_count": 338,
   "metadata": {
    "collapsed": false
   },
   "outputs": [],
   "source": [
    "def randDAG(n,p):\n",
    "    amat= erDAG(n,p)\n",
    "    G=nx.from_numpy_matrix(amat,create_using=nx.DiGraph())\n",
    "    result ={\"amat\":amat,\"G\":G}\n",
    "    return(result)"
   ]
  },
  {
   "cell_type": "code",
   "execution_count": null,
   "metadata": {
    "collapsed": true
   },
   "outputs": [],
   "source": []
  },
  {
   "cell_type": "markdown",
   "metadata": {},
   "source": [
    "# GAUSSCITEST"
   ]
  },
  {
   "cell_type": "code",
   "execution_count": null,
   "metadata": {
    "collapsed": true
   },
   "outputs": [],
   "source": [
    "def gaussCItest(x,y,S,suffStat):\n",
    "    "
   ]
  },
  {
   "cell_type": "code",
   "execution_count": null,
   "metadata": {
    "collapsed": true
   },
   "outputs": [],
   "source": [
    "def zStat(x,y,S,C,n):\n",
    "    "
   ]
  },
  {
   "cell_type": "code",
   "execution_count": null,
   "metadata": {
    "collapsed": true
   },
   "outputs": [],
   "source": [
    "def pcorOrder(i,j,k,C,cut_at=0.9999999):\n",
    "    if(length(k)==0):\n",
    "        r= C[i,j]\n",
    "    elif length(k) ==1:\n",
    "        r = C[i,j] - C[i,k] *C[j,k]/math.sqrt((1-C[j,k])*(1-C[i,k]**2))\n",
    "    else:\n",
    "        PM = np.linalg.pinv(C[[]i,j,k],[i,j,k])\n",
    "        r = -PM[1,2]/math.sqrt(PM[1,1]*PM[2,2])\n",
    "    if r = np.nan:\n",
    "        0\n",
    "    else:\n",
    "        min(cut_at,max(-cut.at,r))\n",
    "            "
   ]
  },
  {
   "cell_type": "code",
   "execution_count": null,
   "metadata": {
    "collapsed": true
   },
   "outputs": [],
   "source": [
    "def simulateVAR(coefMatr=NULL,intercept,size,burn=100,Sigma,error.dist=c(\"normal\",\"t\"),df=NULL,checkCausal=TRUE){\n",
    "\terror.dist  = match.arg(error.dist)\n",
    "\tif(!is.null(coefMatr)) {coefMatr = as.matrix(coefMatr)}\n",
    "\tinteVect    = intercept\n",
    "#\tinteVect    = matrix(inteVect,ncol=1) Command was in actual code\n",
    "\tK           = nrow(Sigma)\n",
    "\tprint(K)\n",
    "\tif(error.dist==\"t\"){\n",
    "\t\tif(is.null(df)|df<=2) {stop(\"error: the d.f. of t-distribution is NULL or <=2\")}\n",
    "\t}\n",
    "\tif (min(eigen(Sigma)$val)<0){stop(\"error: the covariance matrix is not positive-definite\")}\n",
    "\tif (!is.null(coefMatr)){ \n",
    "\t\tif(checkCausal & !companionVAR(coefMatr)$isCausal){stop(\"error: the VAR model is non-causal\")}\n",
    "\t}\n",
    "\tS.scale        = diag(NA,K) \n",
    "\tif(error.dist==\"t\") {S.scale = Sigma*(df-2)/df}\n",
    "\tif (!is.null(coefMatr)) {p = ncol(coefMatr)/K} else {p=0}\n",
    "\tsimData        = matrix(NA,nrow=K,ncol=size+burn)\n",
    "\tcholSigma      = t(chol(Sigma))\n",
    "\tif(p!=0){\n",
    "\t\tsimData[,1:p]  = matrix(rnorm(K*p),nrow=K,ncol=p)\n",
    "\t\tfor (i in (p+1):(size+burn)){\n",
    "\t\t\tif (error.dist==\"normal\") {error = cholSigma %*% matrix(rnorm(K),ncol=1)}\n",
    "\t\t\tif (error.dist==\"t\")      {error = matrix(rmt(n=1,rep(0,K),S.scale,df),ncol=1)}\n",
    "\t\t\tsimData[,i] = inteVect + coefMatr %*% matrix(c(simData[,(i-1):(i-p)]),ncol=1) + error\n",
    "\t}}\n",
    "\tif(p==0){\n",
    "\t\tfor (i in (p+1):(size+burn)){\n",
    "\t\t\tif (error.dist==\"normal\") {error = cholSigma %*% matrix(rnorm(K),ncol=1)}\n",
    "\t\t\tif (error.dist==\"t\")      {error = matrix(rmt(n=1,rep(0,K),S.scale,df),ncol=1)}\n",
    "\t\t\tsimData[,i] = inteVect + error\n",
    "\t}}\n",
    "\tsimData  = t(simData[,(1+burn):(size+burn)])\n",
    "\tresult   = list(simData=simData,coefMatr=coefMatr,inteVect=inteVect,K=K,p=p,size=size,checkCausal=checkCausal,Sigma=Sigma,error.dist=error.dist,df=df)\n",
    "\treturn(result)\n",
    " }"
   ]
  },
  {
   "cell_type": "markdown",
   "metadata": {},
   "source": [
    "# Example of changing truecov function"
   ]
  },
  {
   "cell_type": "code",
   "execution_count": 269,
   "metadata": {
    "collapsed": false
   },
   "outputs": [
    {
     "data": {
      "text/plain": [
       "matrix([[  1.,   0.,   1.,   1.,   2.,   2.],\n",
       "        [  0.,   1.,   1.,   1.,   2.,   2.],\n",
       "        [  1.,   1.,   3.,   2.,   5.,   4.],\n",
       "        [  1.,   1.,   2.,   3.,   5.,   5.],\n",
       "        [  2.,   2.,   5.,   5.,  11.,   9.],\n",
       "        [  2.,   2.,   4.,   5.,   9.,  10.]])"
      ]
     },
     "execution_count": 269,
     "metadata": {},
     "output_type": "execute_result"
    }
   ],
   "source": [
    "A=np.matrix([[0,0,1,1,0,1],\n",
    "           [0,0,1,1,0,1],\n",
    "           [0,0,0,0,1,0],\n",
    "           [0,0,0,0,1,1],\n",
    "           [0,0,0,0,0,0],\n",
    "            [0,0,0,0,0,0]])\n",
    "G=nx.from_numpy_matrix(A,create_using=nx.DiGraph())\n",
    "trueCov(G)"
   ]
  },
  {
   "cell_type": "code",
   "execution_count": 268,
   "metadata": {
    "collapsed": false
   },
   "outputs": [
    {
     "data": {
      "image/png": "[encoded data removed]",
      "text/plain": [
       "<matplotlib.figure.Figure at 0xeb2e3c8>"
      ]
     },
     "metadata": {},
     "output_type": "display_data"
    }
   ],
   "source": [
    "nx.draw(G)\n",
    "plt.show()"
   ]
  },
  {
   "cell_type": "code",
   "execution_count": 273,
   "metadata": {
    "collapsed": false
   },
   "outputs": [
    {
     "data": {
      "image/png": "[encoded data removed]",
      "text/plain": [
       "<matplotlib.figure.Figure at 0xf233048>"
      ]
     },
     "metadata": {},
     "output_type": "display_data"
    }
   ],
   "source": [
    "g= nx.gnp_random_graph(5, 0.4, seed=10, directed=True)\n",
    "nx.draw(g)\n",
    "plt.show()"
   ]
  },
  {
   "cell_type": "code",
   "execution_count": null,
   "metadata": {
    "collapsed": true
   },
   "outputs": [],
   "source": [
    "nx.draw(randDAG(5,0.2)[\"G\"])\n",
    "plt.show()"
   ]
  }
 ],
 "metadata": {
  "kernelspec": {
   "display_name": "Python [default]",
   "language": "python",
   "name": "python2"
  },
  "language_info": {
   "codemirror_mode": {
    "name": "ipython",
    "version": 2
   },
   "file_extension": ".py",
   "mimetype": "text/x-python",
   "name": "python",
   "nbconvert_exporter": "python",
   "pygments_lexer": "ipython2",
   "version": "2.7.12"
  }
 },
 "nbformat": 4,
 "nbformat_minor": 1
}
